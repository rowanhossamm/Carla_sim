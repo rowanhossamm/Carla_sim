{
 "cells": [
  {
   "cell_type": "code",
   "execution_count": 1,
   "id": "c02ba1ee",
   "metadata": {},
   "outputs": [],
   "source": [
    "import carla \n",
    "import time # to set a delay after each photo\n",
    "import cv2 #to work with images from cameras\n",
    "import numpy as np #in this example to change image representation - re-shaping\n",
    "import math"
   ]
  },
  {
   "cell_type": "code",
   "execution_count": 2,
   "id": "f10a6abc",
   "metadata": {},
   "outputs": [],
   "source": [
    "import sys\n",
    "sys.path.append('/home/carla-simulator/PythonAPI/carla') #Adds the directory to the path so that modules\n",
    "from agents.navigation.global_route_planner import GlobalRoutePlanner"
   ]
  },
  {
   "cell_type": "code",
   "execution_count": 3,
   "id": "edadc8c5",
   "metadata": {},
   "outputs": [],
   "source": [
    "# define speed contstants\n",
    "PREFERRED_SPEED = 90 # what it says\n",
    "SPEED_THRESHOLD = 2 #defines when we get close to desired speed so we drop the"
   ]
  },
  {
   "cell_type": "code",
   "execution_count": 4,
   "id": "78aba98d",
   "metadata": {},
   "outputs": [],
   "source": [
    "client = carla.Client('localhost', 2000)\n",
    "\n",
    "client.load_world('Town01')\n",
    "\n",
    "world = client.get_world()\n",
    "\n",
    "spawn_points = world.get_map().get_spawn_points()\n",
    "\n",
    "vehicle_bp = world.get_blueprint_library().filter('*mini')\n",
    "start_point = spawn_points[2]\n",
    "\n",
    "vehicle = world.try_spawn_actor(vehicle_bp[1], start_point)"
   ]
  },
  {
   "cell_type": "code",
   "execution_count": 5,
   "id": "1e77c4f9",
   "metadata": {},
   "outputs": [],
   "source": [
    "#adding params to display text to image\n",
    "font = cv2.FONT_HERSHEY_SIMPLEX\n",
    "# org - defining lines to display telemetry values on the screen\n",
    "org = (30, 30) # this line will be used to show current speed\n",
    "org2 = (30, 50) # this line will be used for future steering angle\n",
    "org3 = (30, 70) # and another line for future telemetry outputs\n",
    "org4 = (30, 90) # and another line for future telemetry outputs\n",
    "org3 = (30, 110) # and another line for future telemetry outputs\n",
    "fontScale = 0.5\n",
    "# white color\n",
    "color = (255, 255, 255)\n",
    "# Line thickness of 2 px\n",
    "thickness = 1"
   ]
  },
  {
   "cell_type": "code",
   "execution_count": 6,
   "id": "ea87c9e6",
   "metadata": {},
   "outputs": [],
   "source": [
    "#camera mount offset on the car - you can tweak these to have the car in view or not\n",
    "CAMERA_POS_Z = 3 \n",
    "CAMERA_POS_X = -5 \n",
    "\n",
    "camera_bp = world.get_blueprint_library().find('sensor.camera.rgb')\n",
    "camera_bp.set_attribute('image_size_x', '640') \n",
    "camera_bp.set_attribute('image_size_y', '360')\n",
    "\n",
    "camera_init_trans = carla.Transform(carla.Location(z=CAMERA_POS_Z,x=CAMERA_POS_X))\n",
    "#this creates the camera in the sim\n",
    "camera = world.spawn_actor(camera_bp,camera_init_trans,attach_to=vehicle)"
   ]
  },
  {
   "cell_type": "code",
   "execution_count": 7,
   "id": "55f009aa",
   "metadata": {},
   "outputs": [],
   "source": [
    "def maintain_speed(s):#(input=current speed),(output=accelerator input to the car)\n",
    "    \n",
    "    if s >= PREFERRED_SPEED: ##high speed## s>30\n",
    "        return 0 #7nfdl zy me7naa (msh 7zwd el acceleration)\n",
    "    \n",
    "    elif s < PREFERRED_SPEED - SPEED_THRESHOLD: ##low speed## s<(20-2) = s<18\n",
    "        return 0.8 # 7zwd el sor3a (7ados 3l bnzen bnsba 0.8) % of \"full gas\"\n",
    "    \n",
    "    else: # 28<s<30\n",
    "        return 0.4 #7dzwd 7aga 5afefa (0.4% of full gas) "
   ]
  },
  {
   "cell_type": "code",
   "execution_count": 8,
   "id": "afe30927",
   "metadata": {},
   "outputs": [],
   "source": [
    "def camera_callback(image,data_dict):\n",
    "    data_dict['image'] = np.reshape(np.copy(image.raw_data),(image.height,image.width,4))\n"
   ]
  },
  {
   "cell_type": "code",
   "execution_count": 9,
   "id": "7698426a",
   "metadata": {},
   "outputs": [],
   "source": [
    "\n",
    "image_w = camera_bp.get_attribute('image_size_x').as_int()\n",
    "image_h = camera_bp.get_attribute('image_size_y').as_int()\n",
    "\n",
    "camera_data = {'image': np.zeros((image_h,image_w,4))}\n",
    "# this actually opens a live stream from the camera\n",
    "camera.listen(lambda image: camera_callback(image,camera_data))\n",
    "\n",
    "cv2.namedWindow('RGB Camera',cv2.WINDOW_AUTOSIZE)\n",
    "cv2.imshow('RGB Camera',camera_data['image'])\n"
   ]
  },
  {
   "cell_type": "code",
   "execution_count": 10,
   "id": "8ccadeb2",
   "metadata": {},
   "outputs": [],
   "source": [
    "#main loop \n",
    "quit = False\n",
    "\n",
    "while True:\n",
    "    # Carla Tick\n",
    "    world.tick()\n",
    "    if cv2.waitKey(1) == ord('q'):\n",
    "        quit = True\n",
    "        break\n",
    "    image = camera_data['image']\n",
    "    \n",
    "    steering_angle = 0 # we do not have it yet\n",
    "    # to get speed we need to use 'get velocity' function\n",
    "    v = vehicle.get_velocity()\n",
    "    # if velocity is a vector in 3d\n",
    "    # then speed is like hypothenuse in a right triangle\n",
    "    # and 3.6 is a conversion factor from meters per second to kmh\n",
    "    # e.g. kmh is 1000 meters and one hour is 60 min with 60 sec = 3600 sec\n",
    "    speed = round(3.6 * math.sqrt(v.x**2 + v.y**2 + v.z**2),0)\n",
    "    # now we add the speed to the window showing a camera mounted on the car\n",
    "    image = cv2.putText(image, 'Speed: '+str(int(speed))+' kmh', org, \n",
    "                        font, fontScale, color, thickness, cv2.LINE_AA)\n",
    "    # this is where we used the function above to determine accelerator input\n",
    "    # from current speed\n",
    "    estimated_throttle = maintain_speed(speed)\n",
    "    # now we apply accelerator\n",
    "    vehicle.apply_control(carla.VehicleControl(throttle=estimated_throttle, \n",
    "                                               steer=steering_angle))\n",
    "    cv2.imshow('RGB Camera',image)\n",
    "\n",
    "#clean up\n",
    "cv2.destroyAllWindows()\n",
    "camera.stop()\n",
    "for actor in world.get_actors().filter('*vehicle*'):\n",
    "    actor.destroy()\n",
    "for sensor in world.get_actors().filter('*sensor*'):\n",
    "    sensor.destroy()"
   ]
  },
  {
   "cell_type": "code",
   "execution_count": null,
   "id": "b1343875",
   "metadata": {},
   "outputs": [],
   "source": []
  },
  {
   "cell_type": "code",
   "execution_count": 11,
   "id": "1c6c4865",
   "metadata": {
    "scrolled": true
   },
   "outputs": [],
   "source": [
    "for actor in world.get_actors().filter('*vehicle*'):\n",
    "    actor.destroy()"
   ]
  },
  {
   "cell_type": "code",
   "execution_count": 12,
   "id": "3bc28667",
   "metadata": {},
   "outputs": [],
   "source": [
    "client = carla.Client('localhost', 2000)\n",
    "\n",
    "client.load_world('Town01')\n",
    "\n",
    "world = client.get_world()\n",
    "\n",
    "spawn_points = world.get_map().get_spawn_points()\n",
    "\n",
    "vehicle_bp = world.get_blueprint_library().filter('*mini')\n",
    "start_point = spawn_points[3]\n",
    "\n",
    "start_point2= carla.Transform(carla.Location(x=335.489990, y=273.743317, z=0.043043), carla.Rotation(pitch=0.000000, yaw=90.000046, roll=0.000000))\n",
    "\n",
    "vehicle = world.try_spawn_actor(vehicle_bp[1], start_point)"
   ]
  },
  {
   "cell_type": "code",
   "execution_count": 13,
   "id": "c68c7835",
   "metadata": {},
   "outputs": [
    {
     "name": "stdout",
     "output_type": "stream",
     "text": [
      "Transform(Location(x=299.399994, y=59.330032, z=0.299888), Rotation(pitch=0.000000, yaw=0.000000, roll=0.000000))\n"
     ]
    }
   ],
   "source": [
    "# get the car's position on the map \n",
    "vehicle_pos = vehicle.get_transform()\n",
    "print(vehicle_pos)"
   ]
  },
  {
   "cell_type": "code",
   "execution_count": 14,
   "id": "e8c70dac",
   "metadata": {},
   "outputs": [],
   "source": [
    "#3shan nela2y el car badl mndwr bel mouse wel wasd: (location above(z=2.5) and behind(x=-4) the car)\n",
    "spectator = world.get_spectator()\n",
    "transform = carla.Transform(vehicle.get_transform().transform(carla.Location(x=-4,z=2.5)), vehicle.get_transform().rotation)\n",
    "spectator.set_transform(transform)"
   ]
  },
  {
   "cell_type": "code",
   "execution_count": 15,
   "id": "9cbe7bee",
   "metadata": {},
   "outputs": [
    {
     "name": "stdout",
     "output_type": "stream",
     "text": [
      "Transform(Location(x=299.399994, y=59.330036, z=0.300000), Rotation(pitch=0.000000, yaw=-0.000092, roll=0.000000))\n"
     ]
    }
   ],
   "source": [
    "# initial spawn point is the same - just 0.6m higher off the ground\n",
    "print(start_point)"
   ]
  },
  {
   "cell_type": "code",
   "execution_count": 16,
   "id": "39998193",
   "metadata": {},
   "outputs": [],
   "source": [
    "#send vehicle off\n",
    "vehicle.set_autopilot(True)"
   ]
  },
  {
   "cell_type": "code",
   "execution_count": 17,
   "id": "b60e3e3d",
   "metadata": {},
   "outputs": [
    {
     "name": "stdout",
     "output_type": "stream",
     "text": [
      "Transform(Location(x=299.399994, y=59.330032, z=0.003707), Rotation(pitch=0.000000, yaw=0.000000, roll=0.000000))\n"
     ]
    }
   ],
   "source": [
    "# get actual position from the car moving\n",
    "vehicle_pos = vehicle.get_transform()\n",
    "print(vehicle_pos)"
   ]
  },
  {
   "cell_type": "code",
   "execution_count": 18,
   "id": "29c91736",
   "metadata": {},
   "outputs": [],
   "source": [
    "# now look at the map\n",
    "town_map = world.get_map()"
   ]
  },
  {
   "cell_type": "code",
   "execution_count": 19,
   "id": "78d71f51",
   "metadata": {},
   "outputs": [
    {
     "data": {
      "text/plain": [
       "carla.libcarla.Map"
      ]
     },
     "execution_count": 19,
     "metadata": {},
     "output_type": "execute_result"
    }
   ],
   "source": [
    "type(town_map)"
   ]
  },
  {
   "cell_type": "code",
   "execution_count": 20,
   "id": "8f422c6b",
   "metadata": {},
   "outputs": [],
   "source": [
    "roads = town_map.get_topology()"
   ]
  },
  {
   "cell_type": "code",
   "execution_count": 21,
   "id": "a85f91c4",
   "metadata": {},
   "outputs": [
    {
     "name": "stdout",
     "output_type": "stream",
     "text": [
      "Waypoint(Transform(Location(x=144.990234, y=59.493351, z=0.000000), Rotation(pitch=0.000000, yaw=-0.006982, roll=0.000000)))\n"
     ]
    }
   ],
   "source": [
    "#have a look at a waypoint - it is transform wrapped as a waypoint\n",
    "print(roads[0][0])"
   ]
  },
  {
   "cell_type": "code",
   "execution_count": 22,
   "id": "9f6acc50",
   "metadata": {},
   "outputs": [
    {
     "data": {
      "text/plain": [
       "160"
      ]
     },
     "execution_count": 22,
     "metadata": {},
     "output_type": "execute_result"
    }
   ],
   "source": [
    "len(roads)"
   ]
  },
  {
   "cell_type": "code",
   "execution_count": 23,
   "id": "19ee04ef",
   "metadata": {},
   "outputs": [],
   "source": [
    "import sys\n",
    "sys.path.append('/home/carla-simulator/PythonAPI/carla') #Adds the directory to the path so that modules\n",
    "from agents.navigation.global_route_planner import GlobalRoutePlanner"
   ]
  },
  {
   "cell_type": "code",
   "execution_count": 24,
   "id": "28d527f5",
   "metadata": {},
   "outputs": [],
   "source": [
    "sampling_resolution = 2\n",
    "\n",
    "grp = GlobalRoutePlanner(town_map, sampling_resolution)\n",
    "\n",
    "point_a = carla.Location(x=299.399994, y=129.750000, z=0.299536)\n",
    "point_b = carla.Location(x=107.175446, y=129.416809, z=0.003263)\n",
    "\n",
    "route = grp.trace_route(point_a, point_b)\n",
    "\n",
    "for waypoints in route:\n",
    "    world.debug.draw_string(waypoints[0].transform.location, '^', draw_shadow=False,\n",
    "                            color = carla.Color(r=0, g=0, b=255), life_time=1000.0,\n",
    "                            persistent_lines=True)\n",
    "\n"
   ]
  },
  {
   "cell_type": "code",
   "execution_count": null,
   "id": "4a816a70",
   "metadata": {},
   "outputs": [],
   "source": []
  },
  {
   "cell_type": "code",
   "execution_count": 25,
   "id": "2e670bab",
   "metadata": {},
   "outputs": [],
   "source": [
    "# utility script of destruction\n",
    "\n",
    "for actor in world.get_actors().filter('*vehicle*'):\n",
    "    actor.destroy()\n",
    "for sensor in world.get_actors().filter('*sensor*'):\n",
    "    sensor.destroy()"
   ]
  },
  {
   "cell_type": "code",
   "execution_count": 26,
   "id": "bca56fb5",
   "metadata": {},
   "outputs": [],
   "source": [
    "# now we define 2 cars\n",
    "truck_bp = world.get_blueprint_library().filter('*firetruck*')\n",
    "mini_bp = world.get_blueprint_library().filter('*cooper_s*')\n",
    "\n",
    "#start first car in alredy defined start point\n",
    "truck = world.try_spawn_actor(truck_bp[0], start_point)"
   ]
  },
  {
   "cell_type": "code",
   "execution_count": 27,
   "id": "aceaa976",
   "metadata": {},
   "outputs": [],
   "source": [
    "# tweak spectator position to watch the show\n",
    "\n",
    "spectator = world.get_spectator()\n",
    "spawn_points = world.get_map().get_spawn_points()\n",
    "start_point = spawn_points[0]\n",
    "\n",
    "spectator_pos = carla.Transform(start_point.location + carla.Location(x=20,y=10,z=4),\n",
    "                                carla.Rotation(yaw = start_point.rotation.yaw -155))\n",
    "\n",
    "spectator.set_transform(spectator_pos)"
   ]
  },
  {
   "cell_type": "code",
   "execution_count": 28,
   "id": "533e5923",
   "metadata": {},
   "outputs": [
    {
     "name": "stdout",
     "output_type": "stream",
     "text": [
      "255\n"
     ]
    }
   ],
   "source": [
    "print(len(spawn_points))"
   ]
  },
  {
   "cell_type": "code",
   "execution_count": 29,
   "id": "216a26b6",
   "metadata": {},
   "outputs": [],
   "source": [
    "transform = carla.Transform(carla.Location(x=200, y=190, z=40), carla.Rotation(yaw=180))"
   ]
  },
  {
   "cell_type": "code",
   "execution_count": 30,
   "id": "e8e1cd12",
   "metadata": {},
   "outputs": [],
   "source": [
    "# drop the Mini the sky - watch what happens after\n",
    "\n",
    "#spawn it first somewhere else\n",
    "mini = world.try_spawn_actor(mini_bp[1], transform)\n",
    "\n",
    "mini_pos = carla.Transform(start_point.location + carla.Location(x=-10,z=10),\n",
    "                            carla.Rotation(yaw = start_point.rotation.yaw - 0))\n",
    "mini.set_transform(mini_pos)"
   ]
  },
  {
   "cell_type": "code",
   "execution_count": null,
   "id": "c577c526",
   "metadata": {},
   "outputs": [],
   "source": []
  }
 ],
 "metadata": {
  "kernelspec": {
   "display_name": "Tensor",
   "language": "python",
   "name": "tensor"
  },
  "language_info": {
   "codemirror_mode": {
    "name": "ipython",
    "version": 3
   },
   "file_extension": ".py",
   "mimetype": "text/x-python",
   "name": "python",
   "nbconvert_exporter": "python",
   "pygments_lexer": "ipython3",
   "version": "3.9.19"
  }
 },
 "nbformat": 4,
 "nbformat_minor": 5
}
