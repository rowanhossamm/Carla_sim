{
 "cells": [
  {
   "cell_type": "code",
   "execution_count": 1,
   "id": "01b7668f-e647-4f3d-939b-095ee4c8323d",
   "metadata": {},
   "outputs": [],
   "source": [
    "import carla\n",
    "import random\n",
    "import time\n",
    "import numpy as np\n",
    "import cv2"
   ]
  },
  {
   "cell_type": "code",
   "execution_count": 2,
   "id": "72882c46",
   "metadata": {},
   "outputs": [],
   "source": [
    "def process_img(image):\n",
    "    i = np.array(image.raw_data)  # convert to an array\n",
    "    i2 = i.reshape((IM_HEIGHT, IM_WIDTH, 4))  # was flattened, so we're going to shape it.\n",
    "    i3 = i2[:, :, :3]  # remove the alpha (basically, remove the 4th index  of every pixel. Converting RGBA to RGB)\n",
    "    cv2.imshow(\"\", i3)  # show it.\n",
    "    cv2.waitKey(1)\n",
    "    return i3/255.0  # normalize"
   ]
  },
  {
   "cell_type": "code",
   "execution_count": 3,
   "id": "4436f3e2",
   "metadata": {},
   "outputs": [],
   "source": [
    "IM_WIDTH = 640\n",
    "IM_HEIGHT = 480"
   ]
  },
  {
   "cell_type": "code",
   "execution_count": null,
   "id": "8daf97a6-1aff-4e91-8196-b3d4808fb9f0",
   "metadata": {},
   "outputs": [
    {
     "name": "stdout",
     "output_type": "stream",
     "text": [
      "ActorBlueprint(id=vehicle.tesla.model3,tags=[tesla, model3, vehicle])\n"
     ]
    }
   ],
   "source": [
    "actor_list = []\n",
    "try:\n",
    "    client = carla.Client(\"localhost\", 2000)\n",
    "    #client.set_timeout(2.0)\n",
    "    world = client.get_world()\n",
    "    blueprint_library = world.get_blueprint_library() #incorporate new actors into the simulation\n",
    "    bp = blueprint_library.filter(\"model3\")[0]\n",
    "    print(bp)\n",
    "    spawn_point = world.get_map().get_spawn_points()\n",
    "    vehicle = world.spawn_actor(bp, random.choice(spawn_point))\n",
    "    #vehicle.set_autopilot(True)\n",
    "    vehicle.apply_control(carla.VehicleControl(throttle=1.0, steer=0.0))\n",
    "    actor_list.append(vehicle)\n",
    "\n",
    "    cam_bp = blueprint_library.find(\"sensor.camera.rgb\")\n",
    "    # change the dimensions of the image\n",
    "    cam_bp.set_attribute('image_size_x', f'{IM_WIDTH}')\n",
    "    cam_bp.set_attribute('image_size_y', f'{IM_HEIGHT}')\n",
    "    cam_bp.set_attribute('fov', '110')\n",
    "    \n",
    "    # Adjust sensor relative to vehicle\n",
    "    spawn_point = carla.Transform(carla.Location(x=2.5, z=0.7))\n",
    "\n",
    "    # spawn the sensor and attach to vehicle.\n",
    "    sensor = world.spawn_actor(cam_bp, spawn_point, attach_to=vehicle)\n",
    "\n",
    "    # add sensor to list of actors\n",
    "    actor_list.append(sensor)\n",
    "    \n",
    "    sensor.listen(lambda data: process_img(data))\n",
    "    \n",
    "    \n",
    "    time.sleep(100)\n",
    "\n",
    "    \n",
    "finally:\n",
    "    for actor in actor_list:\n",
    "        actor.destroy()\n",
    "    print(\"all cleaned up!!\")"
   ]
  },
  {
   "cell_type": "code",
   "execution_count": null,
   "id": "50766371",
   "metadata": {},
   "outputs": [],
   "source": []
  }
 ],
 "metadata": {
  "kernelspec": {
   "display_name": "test",
   "language": "python",
   "name": "test"
  },
  "language_info": {
   "codemirror_mode": {
    "name": "ipython",
    "version": 3
   },
   "file_extension": ".py",
   "mimetype": "text/x-python",
   "name": "python",
   "nbconvert_exporter": "python",
   "pygments_lexer": "ipython3",
   "version": "3.7.12"
  }
 },
 "nbformat": 4,
 "nbformat_minor": 5
}
