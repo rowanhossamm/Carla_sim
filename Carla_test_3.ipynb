{
 "cells": [
  {
   "cell_type": "code",
   "execution_count": 1,
   "id": "036ba893",
   "metadata": {},
   "outputs": [],
   "source": [
    "import carla\n",
    "import random\n",
    "import time\n",
    "import numpy as np\n",
    "import cv2"
   ]
  },
  {
   "cell_type": "code",
   "execution_count": 2,
   "id": "6af33002",
   "metadata": {},
   "outputs": [],
   "source": [
    "def process_img(image):\n",
    "    i = np.array(image.raw_data)  # convert to an array\n",
    "    i2 = i.reshape((IM_HEIGHT, IM_WIDTH, 4))  # was flattened, so we're going to shape it.\n",
    "    i3 = i2[:, :, :3]  # remove the alpha (basically, remove the 4th index  of every pixel. Converting RGBA to RGB)\n",
    "    cv2.imshow(\"\", i3)  # show it.\n",
    "    cv2.waitKey(1)\n",
    "    return i3/255.0  # normalize"
   ]
  },
  {
   "cell_type": "code",
   "execution_count": 3,
   "id": "78fe8d98",
   "metadata": {},
   "outputs": [],
   "source": [
    "IM_WIDTH = 640\n",
    "IM_HEIGHT = 480"
   ]
  },
  {
   "cell_type": "code",
   "execution_count": 4,
   "id": "b609dcb2",
   "metadata": {},
   "outputs": [],
   "source": [
    "client = carla.Client(\"localhost\", 2000)\n",
    "world = client.get_world()"
   ]
  },
  {
   "cell_type": "code",
   "execution_count": 5,
   "id": "dcf84829",
   "metadata": {},
   "outputs": [],
   "source": [
    "blueprint_library = world.get_blueprint_library() #incorporate new actors into the simulation\n",
    "bp = blueprint_library.filter(\"model3\")[0]"
   ]
  },
  {
   "cell_type": "code",
   "execution_count": 6,
   "id": "899f9b39",
   "metadata": {},
   "outputs": [],
   "source": [
    "spawn_point = world.get_map().get_spawn_points()"
   ]
  },
  {
   "cell_type": "code",
   "execution_count": 7,
   "id": "87806cc2",
   "metadata": {},
   "outputs": [],
   "source": [
    "vehicle = world.spawn_actor(bp, random.choice(spawn_point))"
   ]
  },
  {
   "cell_type": "code",
   "execution_count": 8,
   "id": "3f21ce1c",
   "metadata": {},
   "outputs": [],
   "source": [
    "#3shan nela2y el car badl mndwr bel mouse wel wasd: (location above(z=2.5) and behind(x=-4) the car)\n",
    "spectator = world.get_spectator()\n",
    "transform = carla.Transform(vehicle.get_transform().transform(carla.Location(x=-4,z=2.5)), vehicle.get_transform().rotation)\n",
    "spectator.set_transform(transform)"
   ]
  },
  {
   "cell_type": "code",
   "execution_count": 9,
   "id": "656f1ce5",
   "metadata": {},
   "outputs": [],
   "source": [
    "vehicle.apply_control(carla.VehicleControl(throttle=1.0, steer=0.0))\n"
   ]
  },
  {
   "cell_type": "code",
   "execution_count": 10,
   "id": "493ff05c",
   "metadata": {},
   "outputs": [],
   "source": [
    "cam_bp = blueprint_library.find(\"sensor.camera.rgb\")\n",
    "# change the dimensions of the image\n",
    "cam_bp.set_attribute('image_size_x', f'{IM_WIDTH}')\n",
    "cam_bp.set_attribute('image_size_y', f'{IM_HEIGHT}')\n",
    "cam_bp.set_attribute('fov', '110')\n",
    "\n",
    "# Adjust sensor relative to vehicle\n",
    "spawn_point = carla.Transform(carla.Location(x=2.5, z=0.7))\n",
    "\n",
    "# spawn the sensor and attach to vehicle.\n",
    "sensor = world.spawn_actor(cam_bp, spawn_point, attach_to=vehicle)\n",
    "\n",
    "sensor.listen(lambda data: process_img(data))"
   ]
  },
  {
   "cell_type": "code",
   "execution_count": null,
   "id": "b62e3dd4",
   "metadata": {},
   "outputs": [],
   "source": []
  }
 ],
 "metadata": {
  "kernelspec": {
   "display_name": "carla-sim",
   "language": "python",
   "name": "carla-sim"
  },
  "language_info": {
   "codemirror_mode": {
    "name": "ipython",
    "version": 3
   },
   "file_extension": ".py",
   "mimetype": "text/x-python",
   "name": "python",
   "nbconvert_exporter": "python",
   "pygments_lexer": "ipython3",
   "version": "3.7.12"
  }
 },
 "nbformat": 4,
 "nbformat_minor": 5
}
