{
 "cells": [
  {
   "cell_type": "code",
   "execution_count": null,
   "id": "fb1d5f40",
   "metadata": {},
   "outputs": [],
   "source": [
    "import carla \n",
    "import time # to set a delay after each photo\n",
    "import cv2 #to work with images from cameras\n",
    "import numpy as np #in this example to change image representation - re-shaping\n",
    "import math\n",
    "import sys"
   ]
  },
  {
   "cell_type": "code",
   "execution_count": null,
   "id": "8bbde6ee",
   "metadata": {},
   "outputs": [],
   "source": [
    "sys.path.append('/home/carla-simulator/PythonAPI/carla') "
   ]
  },
  {
   "cell_type": "code",
   "execution_count": null,
   "id": "e28748cd",
   "metadata": {},
   "outputs": [],
   "source": [
    "from agents.navigation.global_route_planner import GlobalRoutePlanner"
   ]
  },
  {
   "cell_type": "code",
   "execution_count": null,
   "id": "e0e54f01",
   "metadata": {},
   "outputs": [],
   "source": [
    "# connect to the sim \n",
    "client = carla.Client('localhost', 2000)\n",
    "client.load_world('Town01')"
   ]
  },
  {
   "cell_type": "code",
   "execution_count": null,
   "id": "80745448",
   "metadata": {},
   "outputs": [],
   "source": [
    "# define speed contstants\n",
    "PREFERRED_SPEED = 30 # what it says\n",
    "SPEED_THRESHOLD = 2 #defines when we get close to desired speed so we drop the"
   ]
  },
  {
   "cell_type": "code",
   "execution_count": null,
   "id": "da99754f",
   "metadata": {},
   "outputs": [],
   "source": [
    "#adding params to display text to image\n",
    "font = cv2.FONT_HERSHEY_SIMPLEX\n",
    "# org - defining lines to display telemetry values on the screen\n",
    "org = (30, 30) # this line will be used to show current speed\n",
    "org2 = (30, 50) # this line will be used for future steering angle\n",
    "org3 = (30, 70) # and another line for future telemetry outputs\n",
    "org4 = (30, 90) # and another line for future telemetry outputs\n",
    "org3 = (30, 110) # and another line for future telemetry outputs\n",
    "fontScale = 0.5\n",
    "# white color\n",
    "color = (255, 255, 255)\n",
    "# Line thickness of 2 px\n",
    "thickness = 1"
   ]
  },
  {
   "cell_type": "code",
   "execution_count": null,
   "id": "b2691324",
   "metadata": {},
   "outputs": [],
   "source": [
    "def maintain_speed(s):#(input=current speed),(output=accelerator input to the car)\n",
    "    \n",
    "    if s >= PREFERRED_SPEED: ##high speed## s>30\n",
    "        return 0 #7nfdl zy me7naa (msh 7zwd el acceleration)\n",
    "    \n",
    "    elif s < PREFERRED_SPEED - SPEED_THRESHOLD: ##low speed## s<(20-2) = s<18\n",
    "        return 0.8 # 7zwd el sor3a (7ados 3l bnzen bnsba 0.8) % of \"full gas\"\n",
    "    \n",
    "    else: # 28<s<30\n",
    "        return 0.4 #7dzwd 7aga 5afefa (0.4% of full gas) "
   ]
  },
  {
   "cell_type": "code",
   "execution_count": null,
   "id": "eef067b7",
   "metadata": {},
   "outputs": [],
   "source": [
    "def angle_between(v1, v2): #subtract 2 vectors\n",
    "    return math.degrees(np.arctan2(v1[1], v1[0]) - np.arctan2(v2[1], v2[0]))"
   ]
  },
  {
   "cell_type": "code",
   "execution_count": null,
   "id": "7fb8c146",
   "metadata": {},
   "outputs": [],
   "source": [
    "def get_angle(car,wp): #get angle between the car and the target point\n",
    "    '''\n",
    "    this function to find direction to selected waypoint\n",
    "    '''\n",
    "    vehicle_pos = car.get_transform()\n",
    "    car_x = vehicle_pos.location.x\n",
    "    car_y = vehicle_pos.location.y\n",
    "    wp_x = wp.transform.location.x\n",
    "    wp_y = wp.transform.location.y\n",
    "    \n",
    "    # vector to waypoint\n",
    "    x = (wp_x - car_x)/((wp_y - car_y)**2 + (wp_x - car_x)**2)**0.5\n",
    "    y = (wp_y - car_y)/((wp_y - car_y)**2 + (wp_x - car_x)**2)**0.5\n",
    "    \n",
    "    #car vector\n",
    "    car_vector = vehicle_pos.get_forward_vector()\n",
    "    degrees = angle_between((x,y),(car_vector.x,car_vector.y))\n",
    "\n",
    "    return degrees"
   ]
  },
  {
   "cell_type": "code",
   "execution_count": null,
   "id": "b2d34971",
   "metadata": {},
   "outputs": [],
   "source": [
    "world = client.get_world()\n",
    "spawn_points = world.get_map().get_spawn_points()\n",
    "#look for a blueprint of Mini car\n",
    "vehicle_bp = world.get_blueprint_library().filter('*mini*')\n",
    "\n",
    "start_point = spawn_points[2]\n",
    "vehicle = world.try_spawn_actor(vehicle_bp[0], start_point)"
   ]
  },
  {
   "cell_type": "code",
   "execution_count": null,
   "id": "50125379",
   "metadata": {},
   "outputs": [],
   "source": [
    "spectator = world.get_spectator()\n",
    "transform = carla.Transform(vehicle.get_transform().transform(carla.Location(x=-4,z=2.5)), vehicle.get_transform().rotation)\n",
    "spectator.set_transform(transform)"
   ]
  },
  {
   "cell_type": "code",
   "execution_count": null,
   "id": "63be6171",
   "metadata": {},
   "outputs": [],
   "source": [
    "point_a = start_point.location #we start at where the car is\n",
    "\n",
    "point_b = carla.Location(x=107.175446, y=129.416809, z=0.003263)\n",
    "\n",
    "\n",
    "sampling_resolution = 1\n",
    "grp = GlobalRoutePlanner(world.get_map(), sampling_resolution)\n",
    "\n",
    "\"\"\"\n",
    "# now let' pick the longest possible route\n",
    "distance = 0\n",
    "for loc in spawn_points: # we start trying all spawn points \n",
    "                            #but we just exclude first at zero index\n",
    "    cur_route = grp.trace_route(point_a, loc.location)\n",
    "    if len(cur_route)>distance:\n",
    "        distance = len(cur_route)\n",
    "        route = cur_route\n",
    "\"\"\"\n",
    "\n",
    "route = grp.trace_route(point_a, point_b)\n",
    "#draw the route in sim window - Note it does not get into the camera of the car\n",
    "for waypoint in route:\n",
    "    world.debug.draw_string(waypoint[0].transform.location, '^', draw_shadow=False,\n",
    "        color=carla.Color(r=0, g=0, b=255), life_time=600.0,\n",
    "        persistent_lines=True)"
   ]
  },
  {
   "cell_type": "code",
   "execution_count": null,
   "id": "800663ac",
   "metadata": {},
   "outputs": [],
   "source": [
    "#camera mount offset on the car - you can tweak these to have the car in view or not\n",
    "CAMERA_POS_Z = 3 \n",
    "CAMERA_POS_X = -5 \n",
    "\n",
    "camera_bp = world.get_blueprint_library().find('sensor.camera.rgb')\n",
    "camera_bp.set_attribute('image_size_x', '640') \n",
    "camera_bp.set_attribute('image_size_y', '360')\n",
    "\n",
    "camera_init_trans = carla.Transform(carla.Location(z=CAMERA_POS_Z,x=CAMERA_POS_X))\n",
    "#this creates the camera in the sim\n",
    "camera = world.spawn_actor(camera_bp,camera_init_trans,attach_to=vehicle)"
   ]
  },
  {
   "cell_type": "code",
   "execution_count": null,
   "id": "1c55e2e6",
   "metadata": {},
   "outputs": [],
   "source": [
    "def camera_callback(image,data_dict):\n",
    "    data_dict['image'] = np.reshape(np.copy(image.raw_data),(image.height,image.width,4))\n",
    "\n",
    "image_w = camera_bp.get_attribute('image_size_x').as_int()\n",
    "image_h = camera_bp.get_attribute('image_size_y').as_int()\n",
    "\n",
    "camera_data = {'image': np.zeros((image_h,image_w,4))}\n",
    "# this actually opens a live stream from the camera\n",
    "camera.listen(lambda image: camera_callback(image,camera_data))\n",
    "\n",
    "cv2.namedWindow('RGB Camera',cv2.WINDOW_AUTOSIZE)\n",
    "cv2.imshow('RGB Camera',camera_data['image'])\n",
    "\n",
    "#main loop \n",
    "quit = False\n",
    "curr_wp = 5 #we will be tracking waypoints in the route and switch to next one wen we get close to current one\n",
    "predicted_angle = 0\n",
    "while curr_wp<len(route)-1:\n",
    "    # Carla Tick\n",
    "    world.tick()\n",
    "    if cv2.waitKey(1) == ord('q'):\n",
    "        quit = True\n",
    "        vehicle.apply_control(carla.VehicleControl(throttle=0,steer=0,brake=1))\n",
    "        break\n",
    "    image = camera_data['image']\n",
    "    \n",
    "    while curr_wp<len(route) and vehicle.get_transform().location.distance(route[curr_wp][0].transform.location)<5:\n",
    "        curr_wp +=1 #move to next wp if we are too close\n",
    "    \n",
    "    predicted_angle = get_angle(vehicle,route[curr_wp][0])\n",
    "    image = cv2.putText(image, 'Steering angle: '+str(round(predicted_angle,3)), org, font, fontScale, color, thickness, cv2.LINE_AA)\n",
    "    v = vehicle.get_velocity()\n",
    "    speed = round(3.6 * math.sqrt(v.x**2 + v.y**2 + v.z**2),0)\n",
    "    image = cv2.putText(image, 'Speed: '+str(int(speed)), org2, font, fontScale, color, thickness, cv2.LINE_AA)\n",
    "    image = cv2.putText(image, 'Next wp: '+str(curr_wp), org3, font, fontScale, color, thickness, cv2.LINE_AA)\n",
    "    estimated_throttle = maintain_speed(speed)\n",
    "    # extra checks on predicted angle when values close to 360 degrees are returned\n",
    "    if predicted_angle<-300:\n",
    "        predicted_angle = predicted_angle+360\n",
    "    elif predicted_angle > 300:\n",
    "        predicted_angle = predicted_angle -360\n",
    "    steer_input = predicted_angle\n",
    "    #and conversion of to -1 to +1\n",
    "    if predicted_angle<-40:\n",
    "        steer_input = -40\n",
    "    elif predicted_angle>40:\n",
    "        steer_input = 40\n",
    "    # conversion from degrees to -1 to +1 input for apply control function\n",
    "    steer_input = steer_input/75\n",
    "\n",
    "    vehicle.apply_control(carla.VehicleControl(throttle=estimated_throttle, steer=steer_input))\n",
    "    cv2.imshow('RGB Camera',image)\n",
    "    \n",
    "#clean up\n",
    "cv2.destroyAllWindows()\n",
    "camera.stop()\n",
    "for sensor in world.get_actors().filter('*sensor*'):\n",
    "    sensor.destroy()\n",
    "\"\"\"\n",
    "for actor in world.get_actors().filter('*vehicle*'):\n",
    "    actor.destroy()\n",
    "\"\"\"\n",
    "vehicle.apply_control(carla.VehicleControl(throttle=0,steer=0,brake=1))"
   ]
  },
  {
   "cell_type": "code",
   "execution_count": null,
   "id": "86e184eb",
   "metadata": {},
   "outputs": [],
   "source": []
  }
 ],
 "metadata": {
  "kernelspec": {
   "display_name": "Tensor",
   "language": "python",
   "name": "tensor"
  },
  "language_info": {
   "codemirror_mode": {
    "name": "ipython",
    "version": 3
   },
   "file_extension": ".py",
   "mimetype": "text/x-python",
   "name": "python",
   "nbconvert_exporter": "python",
   "pygments_lexer": "ipython3",
   "version": "3.9.19"
  }
 },
 "nbformat": 4,
 "nbformat_minor": 5
}
