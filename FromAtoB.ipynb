{
 "cells": [
  {
   "cell_type": "code",
   "execution_count": 1,
   "id": "83c317b3-487e-40c4-9b0e-3d2cdcbbb6b0",
   "metadata": {},
   "outputs": [],
   "source": [
    "import carla"
   ]
  },
  {
   "cell_type": "code",
   "execution_count": 2,
   "id": "ee5212cc-1877-4021-9876-82f28c233390",
   "metadata": {},
   "outputs": [],
   "source": [
    "import sys"
   ]
  },
  {
   "cell_type": "code",
   "execution_count": 3,
   "id": "65bec30b-5e5a-42af-bb65-dcd373bd1da0",
   "metadata": {},
   "outputs": [],
   "source": [
    "sys.path.append('/home/carla-simulator/PythonAPI/carla') #Adds the directory to the path so that modules within the agents directory can be found."
   ]
  },
  {
   "cell_type": "code",
   "execution_count": 4,
   "id": "dfba40d2-8e2a-498a-ad5e-ee2ecc19a8b3",
   "metadata": {},
   "outputs": [],
   "source": [
    "from agents.navigation.global_route_planner import GlobalRoutePlanner"
   ]
  },
  {
   "cell_type": "code",
   "execution_count": 5,
   "id": "8b24104f-bb0c-4d88-8990-1b0346a0a554",
   "metadata": {},
   "outputs": [],
   "source": [
    "client = carla.Client(\"localhost\", 2000)\n",
    "client.set_timeout(10)\n",
    "world = client.load_world('Town01')"
   ]
  },
  {
   "cell_type": "code",
   "execution_count": 6,
   "id": "101aec22-7c80-4076-898d-f401586f3bb7",
   "metadata": {},
   "outputs": [],
   "source": [
    "town_map = world.get_map()\n",
    "sampling_resolution = 2\n",
    "grp = GlobalRoutePlanner(town_map, sampling_resolution)#Creates a GlobalRoutePlanner instance for finding routes on the map.\n",
    "spawn_points = world.get_map().get_spawn_points()"
   ]
  },
  {
   "cell_type": "code",
   "execution_count": 13,
   "id": "0a9e569b-145a-4bbb-9677-fef897690bc1",
   "metadata": {
    "scrolled": true
   },
   "outputs": [
    {
     "name": "stdout",
     "output_type": "stream",
     "text": [
      "Transform(Location(x=299.399994, y=133.240036, z=0.300000), Rotation(pitch=0.000000, yaw=-0.000092, roll=0.000000))\n"
     ]
    }
   ],
   "source": [
    "print(spawn_points[1])"
   ]
  },
  {
   "cell_type": "code",
   "execution_count": 8,
   "id": "209fee0d-4569-408a-9b09-421dbaa6ac74",
   "metadata": {},
   "outputs": [],
   "source": [
    "a = carla.Location(spawn_points[90].location)#50th spawn point\n",
    "b = carla.Location(spawn_points[95].location)#100th spawn point\n",
    "route = grp.trace_route(a, b) #Finds a Route between a and b\n",
    "i = 0\n",
    "#Visualizes Route Waypoints:\n",
    "for waypoint in route:\n",
    "        world.debug.draw_string(waypoint[0].transform.location, 'O', draw_shadow=False,\n",
    "        color = carla.Color(r=0, g=0, b=255), life_time=1000.0,\n",
    "        persistent_lines=True)"
   ]
  },
  {
   "cell_type": "code",
   "execution_count": 9,
   "id": "e0ba3932-167e-4139-86a8-219b75b720a5",
   "metadata": {},
   "outputs": [
    {
     "name": "stdout",
     "output_type": "stream",
     "text": [
      "(<carla.libcarla.Waypoint object at 0x70e79cab4450>, <RoadOption.LANEFOLLOW: 4>)\n"
     ]
    }
   ],
   "source": [
    "print(waypoint)"
   ]
  },
  {
   "cell_type": "code",
   "execution_count": 10,
   "id": "152d46d7-a183-411a-ab8b-12fed4b5e8c7",
   "metadata": {},
   "outputs": [
    {
     "name": "stdout",
     "output_type": "stream",
     "text": [
      "359\n"
     ]
    }
   ],
   "source": [
    "waypoint_num = len(route)\n",
    "print(waypoint_num)"
   ]
  },
  {
   "cell_type": "code",
   "execution_count": 11,
   "id": "8de7ace1-4a4f-4e9a-8f19-959a0f1daf5f",
   "metadata": {},
   "outputs": [],
   "source": [
    "#putting the car at the starting point"
   ]
  },
  {
   "cell_type": "code",
   "execution_count": 12,
   "id": "9e50d004-8338-4444-9300-858cda93457f",
   "metadata": {},
   "outputs": [],
   "source": [
    "bp_lib = world.get_blueprint_library()"
   ]
  },
  {
   "cell_type": "code",
   "execution_count": 13,
   "id": "10ed5c90-6356-432f-8b02-eb2e69dcf00b",
   "metadata": {},
   "outputs": [],
   "source": [
    "blueprint = bp_lib.find(\"vehicle.tesla.model3\")  # Example blueprint"
   ]
  },
  {
   "cell_type": "code",
   "execution_count": 14,
   "id": "df7aa4e8-c7ca-4f68-a4d5-4cc663fb3158",
   "metadata": {},
   "outputs": [],
   "source": [
    "start_transform = spawn_points[50]  # Reuse the start point's transform\n",
    "vehicle = world.spawn_actor(blueprint, start_transform)"
   ]
  },
  {
   "cell_type": "code",
   "execution_count": 15,
   "id": "fa6a368c-e561-49a9-95b4-d3345c234649",
   "metadata": {},
   "outputs": [],
   "source": [
    "#3shan nela2y el car badl mndwr bel mouse wel wasd: (location above(z=2.5) and behind(x=-4) the car)\n",
    "spectator = world.get_spectator()\n",
    "transform = carla.Transform(vehicle.get_transform().transform(carla.Location(x=-4,z=2.5)), vehicle.get_transform().rotation)\n",
    "spectator.set_transform(transform)"
   ]
  },
  {
   "cell_type": "code",
   "execution_count": 16,
   "id": "abfa00b2-6b87-4567-a5b5-920653b8218d",
   "metadata": {},
   "outputs": [
    {
     "name": "stdout",
     "output_type": "stream",
     "text": [
      "2\n"
     ]
    }
   ],
   "source": [
    "print(len(waypoint))"
   ]
  },
  {
   "cell_type": "code",
   "execution_count": 17,
   "id": "b65072ea-e597-4915-872c-4c7000bf99da",
   "metadata": {},
   "outputs": [
    {
     "name": "stdout",
     "output_type": "stream",
     "text": [
      "Transform(Location(x=167.170242, y=59.490646, z=1.000000), Rotation(pitch=0.000000, yaw=0.000000, roll=0.000000))\n"
     ]
    }
   ],
   "source": [
    "waypoint_1_coord = waypoint[0].transform.location\n",
    "waypoint_1_coord.z += 1\n",
    "vehicle_spawn_point = carla.Transform(carla.Location(waypoint_1_coord))\n",
    "\n",
    "print(vehicle_spawn_point)"
   ]
  },
  {
   "cell_type": "raw",
   "id": "0deed744-a65e-4958-affc-18211d4b7166",
   "metadata": {},
   "source": [
    "#obstacle_bp = bp_lib.find('static.prop.garbage03')  # Example obstacle\n",
    "\n",
    "import random\n",
    "obstacle_bp = random.choice(bp_lib.filter('static.prop.large.container'))\n",
    "\n",
    "#crosswalk_waypoint = waypoint[1]  \n",
    "#obstacle_location = carla.Location(x=crosswalk_waypoint.location.x ,\n",
    "#                                   y=crosswalk_waypoint.location.y ,\n",
    "#                                   z=crosswalk_waypoint.location.z + 3)\n",
    "\n",
    "#obstacle_location = carla.Location(x=250.270187 ,\n",
    "#                                   y=-5.989022 ,\n",
    "#                                   z=1.000000)\n",
    "\n",
    "# Define the index at which you want to place the obstacle\n",
    "obstacle_index = 100  #choose any index along the route here\n",
    "\n",
    "# Obtain the location of the waypoint at the chosen index for the obstacle\n",
    "obstacle_location = carla.Location(x=route[obstacle_index][0].transform.location.x,\n",
    "                                   y=route[obstacle_index][0].transform.location.y,\n",
    "                                   z=route[obstacle_index][0].transform.location.z + 1) \n",
    "\n",
    "# Create the transform for the obstacle\n",
    "obstacle_transform = carla.Transform(obstacle_location, carla.Rotation())\n",
    "\n",
    "# Spawn the obstacle actor at the specified location\n",
    "obstacle = world.spawn_actor(obstacle_bp, obstacle_transform)\n",
    "\n",
    "obstacle_transform = carla.Transform(obstacle_location, carla.Rotation())\n",
    "obstacle = world.spawn_actor(obstacle_bp, obstacle_transform)"
   ]
  },
  {
   "cell_type": "code",
   "execution_count": 18,
   "id": "0b2a0be1-0b01-448a-be56-55c093b65b75",
   "metadata": {},
   "outputs": [],
   "source": [
    "obstacle_waypoint = route[50][0]"
   ]
  },
  {
   "cell_type": "code",
   "execution_count": 19,
   "id": "77d04042-ab19-4806-9949-f434ad3db30b",
   "metadata": {},
   "outputs": [
    {
     "ename": "IndexError",
     "evalue": "Cannot choose from an empty sequence",
     "output_type": "error",
     "traceback": [
      "\u001b[0;31m---------------------------------------------------------------------------\u001b[0m",
      "\u001b[0;31mIndexError\u001b[0m                                Traceback (most recent call last)",
      "\u001b[0;32m/tmp/ipykernel_4771/3357798897.py\u001b[0m in \u001b[0;36m<module>\u001b[0;34m\u001b[0m\n\u001b[1;32m      1\u001b[0m \u001b[0;32mimport\u001b[0m \u001b[0mrandom\u001b[0m\u001b[0;34m\u001b[0m\u001b[0;34m\u001b[0m\u001b[0m\n\u001b[0;32m----> 2\u001b[0;31m \u001b[0mobstacle_bp\u001b[0m \u001b[0;34m=\u001b[0m \u001b[0mrandom\u001b[0m\u001b[0;34m.\u001b[0m\u001b[0mchoice\u001b[0m\u001b[0;34m(\u001b[0m\u001b[0mbp_lib\u001b[0m\u001b[0;34m.\u001b[0m\u001b[0mfilter\u001b[0m\u001b[0;34m(\u001b[0m\u001b[0;34m'static.prop.large.container'\u001b[0m\u001b[0;34m)\u001b[0m\u001b[0;34m)\u001b[0m\u001b[0;34m\u001b[0m\u001b[0;34m\u001b[0m\u001b[0m\n\u001b[0m",
      "\u001b[0;32m~/anaconda3/envs/carla-sim/lib/python3.7/random.py\u001b[0m in \u001b[0;36mchoice\u001b[0;34m(self, seq)\u001b[0m\n\u001b[1;32m    259\u001b[0m             \u001b[0mi\u001b[0m \u001b[0;34m=\u001b[0m \u001b[0mself\u001b[0m\u001b[0;34m.\u001b[0m\u001b[0m_randbelow\u001b[0m\u001b[0;34m(\u001b[0m\u001b[0mlen\u001b[0m\u001b[0;34m(\u001b[0m\u001b[0mseq\u001b[0m\u001b[0;34m)\u001b[0m\u001b[0;34m)\u001b[0m\u001b[0;34m\u001b[0m\u001b[0;34m\u001b[0m\u001b[0m\n\u001b[1;32m    260\u001b[0m         \u001b[0;32mexcept\u001b[0m \u001b[0mValueError\u001b[0m\u001b[0;34m:\u001b[0m\u001b[0;34m\u001b[0m\u001b[0;34m\u001b[0m\u001b[0m\n\u001b[0;32m--> 261\u001b[0;31m             \u001b[0;32mraise\u001b[0m \u001b[0mIndexError\u001b[0m\u001b[0;34m(\u001b[0m\u001b[0;34m'Cannot choose from an empty sequence'\u001b[0m\u001b[0;34m)\u001b[0m \u001b[0;32mfrom\u001b[0m \u001b[0;32mNone\u001b[0m\u001b[0;34m\u001b[0m\u001b[0;34m\u001b[0m\u001b[0m\n\u001b[0m\u001b[1;32m    262\u001b[0m         \u001b[0;32mreturn\u001b[0m \u001b[0mseq\u001b[0m\u001b[0;34m[\u001b[0m\u001b[0mi\u001b[0m\u001b[0;34m]\u001b[0m\u001b[0;34m\u001b[0m\u001b[0;34m\u001b[0m\u001b[0m\n\u001b[1;32m    263\u001b[0m \u001b[0;34m\u001b[0m\u001b[0m\n",
      "\u001b[0;31mIndexError\u001b[0m: Cannot choose from an empty sequence"
     ]
    }
   ],
   "source": [
    "import random\n",
    "obstacle_bp = random.choice(bp_lib.filter('static.prop.large.container'))"
   ]
  },
  {
   "cell_type": "code",
   "execution_count": null,
   "id": "744079a4-50c8-4750-a21c-e35457e5f075",
   "metadata": {},
   "outputs": [],
   "source": [
    "# Adjust obstacle's location slightly above the road\n",
    "obstacle_location = carla.Location(\n",
    "    x=obstacle_waypoint.transform.location.x + 2,  # Adjust these values as needed\n",
    "    y=obstacle_waypoint.transform.location.y,\n",
    "    z=obstacle_waypoint.transform.location.z + 0.2  # Slightly above the road\n",
    ")\n",
    "obstacle_transform = carla.Transform(obstacle_location, carla.Rotation())\n",
    "obstacle = world.spawn_actor(obstacle_bp, obstacle_transform)"
   ]
  },
  {
   "cell_type": "code",
   "execution_count": null,
   "id": "8da828f2-bca3-4bf6-b643-e592476904b9",
   "metadata": {},
   "outputs": [],
   "source": [
    "#prop_blueprints = bp_lib.filter('prop')\n",
    "#for bp in prop_blueprints:\n",
    "#    print(bp.id)"
   ]
  },
  {
   "cell_type": "code",
   "execution_count": null,
   "id": "1332fe27-2943-47a8-a0e8-a156a5f3d11b",
   "metadata": {},
   "outputs": [],
   "source": [
    "# Find a waypoint near the middle of the route\n",
    "middle_index = int(len(route) / 2)\n",
    "obstacle_waypoint = route[middle_index]"
   ]
  },
  {
   "cell_type": "code",
   "execution_count": null,
   "id": "db7dfca0-e068-45c1-b166-4e0fec13a7de",
   "metadata": {},
   "outputs": [],
   "source": [
    "# Extract the location from the waypoint\n",
    "obstacle_location = obstacle_waypoint.transform.location  # Access carla.Location object"
   ]
  },
  {
   "cell_type": "code",
   "execution_count": null,
   "id": "6c969f38-64db-4ee2-9c6b-e3225d607bf1",
   "metadata": {},
   "outputs": [],
   "source": [
    "obstacle_transform = carla.Transform(obstacle_location, carla.Rotation())\n",
    "obstacle = world.spawn_actor(obstacle_bp, obstacle_transform)"
   ]
  },
  {
   "cell_type": "code",
   "execution_count": null,
   "id": "ab02fc0d-d77e-403c-bbb1-351dc6236150",
   "metadata": {},
   "outputs": [],
   "source": []
  },
  {
   "cell_type": "code",
   "execution_count": null,
   "id": "9d5a5190",
   "metadata": {},
   "outputs": [],
   "source": []
  }
 ],
 "metadata": {
  "kernelspec": {
   "display_name": "Tensor",
   "language": "python",
   "name": "tensor"
  },
  "language_info": {
   "codemirror_mode": {
    "name": "ipython",
    "version": 3
   },
   "file_extension": ".py",
   "mimetype": "text/x-python",
   "name": "python",
   "nbconvert_exporter": "python",
   "pygments_lexer": "ipython3",
   "version": "3.9.19"
  }
 },
 "nbformat": 4,
 "nbformat_minor": 5
}
