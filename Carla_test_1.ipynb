{
 "cells": [
  {
   "cell_type": "code",
   "execution_count": 1,
   "id": "92046fd7-8375-464c-90da-ca1200979064",
   "metadata": {},
   "outputs": [],
   "source": [
    "import carla\n",
    "import math\n",
    "import random\n",
    "import time\n",
    "import numpy as np\n"
   ]
  },
  {
   "cell_type": "code",
   "execution_count": 2,
   "id": "d65ff423",
   "metadata": {},
   "outputs": [],
   "source": [
    "import cv2"
   ]
  },
  {
   "cell_type": "code",
   "execution_count": 3,
   "id": "0483ef86-77bc-4ae6-b6cf-d06ae63b4166",
   "metadata": {},
   "outputs": [],
   "source": [
    "client = carla.Client('localhost', 2000)\n",
    "world = client.get_world()"
   ]
  },
  {
   "cell_type": "code",
   "execution_count": 4,
   "id": "23ed40cd-522c-4cb0-aeaf-a32525996017",
   "metadata": {},
   "outputs": [
    {
     "data": {
      "text/plain": [
       "<carla.libcarla.World at 0x7e5106e254c0>"
      ]
     },
     "execution_count": 4,
     "metadata": {},
     "output_type": "execute_result"
    }
   ],
   "source": [
    "client.load_world('Town01')"
   ]
  },
  {
   "cell_type": "code",
   "execution_count": 5,
   "id": "ccf1e3fa-19f3-4670-a1d9-f422e1cfcc6e",
   "metadata": {},
   "outputs": [],
   "source": [
    "bp_lib = world.get_blueprint_library()\n",
    "spawn_points = world.get_map().get_spawn_points()"
   ]
  },
  {
   "cell_type": "code",
   "execution_count": 6,
   "id": "fa445158",
   "metadata": {},
   "outputs": [
    {
     "data": {
      "text/plain": [
       "[<carla.libcarla.Transform at 0x7e5105a1ad40>,\n",
       " <carla.libcarla.Transform at 0x7e50d779d340>,\n",
       " <carla.libcarla.Transform at 0x7e50d779d3c0>,\n",
       " <carla.libcarla.Transform at 0x7e50d779d440>,\n",
       " <carla.libcarla.Transform at 0x7e50d779d4c0>,\n",
       " <carla.libcarla.Transform at 0x7e50d779d540>,\n",
       " <carla.libcarla.Transform at 0x7e50d779d5c0>,\n",
       " <carla.libcarla.Transform at 0x7e50d779d640>,\n",
       " <carla.libcarla.Transform at 0x7e50d779d6c0>,\n",
       " <carla.libcarla.Transform at 0x7e50d779d7c0>,\n",
       " <carla.libcarla.Transform at 0x7e50d779d840>,\n",
       " <carla.libcarla.Transform at 0x7e50d779d8c0>,\n",
       " <carla.libcarla.Transform at 0x7e50d779d940>,\n",
       " <carla.libcarla.Transform at 0x7e50d779d9c0>,\n",
       " <carla.libcarla.Transform at 0x7e50d779da40>,\n",
       " <carla.libcarla.Transform at 0x7e50d779dac0>,\n",
       " <carla.libcarla.Transform at 0x7e50d779db40>,\n",
       " <carla.libcarla.Transform at 0x7e50d779d740>,\n",
       " <carla.libcarla.Transform at 0x7e50d779dbc0>,\n",
       " <carla.libcarla.Transform at 0x7e50d779dc40>,\n",
       " <carla.libcarla.Transform at 0x7e50d779dcc0>,\n",
       " <carla.libcarla.Transform at 0x7e50d779dd40>,\n",
       " <carla.libcarla.Transform at 0x7e50d779ddc0>,\n",
       " <carla.libcarla.Transform at 0x7e50d779de40>,\n",
       " <carla.libcarla.Transform at 0x7e50d779dec0>,\n",
       " <carla.libcarla.Transform at 0x7e50d779df40>,\n",
       " <carla.libcarla.Transform at 0x7e50d77b6040>,\n",
       " <carla.libcarla.Transform at 0x7e50d77b60c0>,\n",
       " <carla.libcarla.Transform at 0x7e50d77b6140>,\n",
       " <carla.libcarla.Transform at 0x7e50d77b61c0>,\n",
       " <carla.libcarla.Transform at 0x7e50d77b6240>,\n",
       " <carla.libcarla.Transform at 0x7e50d77b62c0>,\n",
       " <carla.libcarla.Transform at 0x7e50d77b6340>,\n",
       " <carla.libcarla.Transform at 0x7e50d77b63c0>,\n",
       " <carla.libcarla.Transform at 0x7e50d77b6440>,\n",
       " <carla.libcarla.Transform at 0x7e50d77b64c0>,\n",
       " <carla.libcarla.Transform at 0x7e50d77b6540>,\n",
       " <carla.libcarla.Transform at 0x7e50d77b65c0>,\n",
       " <carla.libcarla.Transform at 0x7e50d77b6640>,\n",
       " <carla.libcarla.Transform at 0x7e50d77b66c0>,\n",
       " <carla.libcarla.Transform at 0x7e50d77b6740>,\n",
       " <carla.libcarla.Transform at 0x7e50d77b67c0>,\n",
       " <carla.libcarla.Transform at 0x7e50d77b6840>,\n",
       " <carla.libcarla.Transform at 0x7e50d77b68c0>,\n",
       " <carla.libcarla.Transform at 0x7e50d77b6940>,\n",
       " <carla.libcarla.Transform at 0x7e50d77b69c0>,\n",
       " <carla.libcarla.Transform at 0x7e50d77b6a40>,\n",
       " <carla.libcarla.Transform at 0x7e50d77b6ac0>,\n",
       " <carla.libcarla.Transform at 0x7e50d77b6b40>,\n",
       " <carla.libcarla.Transform at 0x7e50d77b6bc0>,\n",
       " <carla.libcarla.Transform at 0x7e50d77b6c40>,\n",
       " <carla.libcarla.Transform at 0x7e50d77b6cc0>,\n",
       " <carla.libcarla.Transform at 0x7e50d77b6d40>,\n",
       " <carla.libcarla.Transform at 0x7e50d77b6dc0>,\n",
       " <carla.libcarla.Transform at 0x7e50d77b6e40>,\n",
       " <carla.libcarla.Transform at 0x7e50d77b6ec0>,\n",
       " <carla.libcarla.Transform at 0x7e50d77b6f40>,\n",
       " <carla.libcarla.Transform at 0x7e50d77b7040>,\n",
       " <carla.libcarla.Transform at 0x7e50d77b70c0>,\n",
       " <carla.libcarla.Transform at 0x7e50d77b7140>,\n",
       " <carla.libcarla.Transform at 0x7e50d77b71c0>,\n",
       " <carla.libcarla.Transform at 0x7e50d77b7240>,\n",
       " <carla.libcarla.Transform at 0x7e50d77b72c0>,\n",
       " <carla.libcarla.Transform at 0x7e50d77b7340>,\n",
       " <carla.libcarla.Transform at 0x7e50d77b73c0>,\n",
       " <carla.libcarla.Transform at 0x7e50d77b7440>,\n",
       " <carla.libcarla.Transform at 0x7e50d77b74c0>,\n",
       " <carla.libcarla.Transform at 0x7e50d77b7540>,\n",
       " <carla.libcarla.Transform at 0x7e50d77b75c0>,\n",
       " <carla.libcarla.Transform at 0x7e50d77b7640>,\n",
       " <carla.libcarla.Transform at 0x7e50d77b76c0>,\n",
       " <carla.libcarla.Transform at 0x7e50d77b7740>,\n",
       " <carla.libcarla.Transform at 0x7e50d77b77c0>,\n",
       " <carla.libcarla.Transform at 0x7e50d77b7840>,\n",
       " <carla.libcarla.Transform at 0x7e50d77b78c0>,\n",
       " <carla.libcarla.Transform at 0x7e50d77b7940>,\n",
       " <carla.libcarla.Transform at 0x7e50d77b79c0>,\n",
       " <carla.libcarla.Transform at 0x7e50d77b7a40>,\n",
       " <carla.libcarla.Transform at 0x7e50d77b7ac0>,\n",
       " <carla.libcarla.Transform at 0x7e50d77b7b40>,\n",
       " <carla.libcarla.Transform at 0x7e50d77b7bc0>,\n",
       " <carla.libcarla.Transform at 0x7e50d77b7c40>,\n",
       " <carla.libcarla.Transform at 0x7e50d77b7cc0>,\n",
       " <carla.libcarla.Transform at 0x7e50d77b7d40>,\n",
       " <carla.libcarla.Transform at 0x7e50d77b7dc0>,\n",
       " <carla.libcarla.Transform at 0x7e50d77b7e40>,\n",
       " <carla.libcarla.Transform at 0x7e50d77b7ec0>,\n",
       " <carla.libcarla.Transform at 0x7e50d77b7f40>,\n",
       " <carla.libcarla.Transform at 0x7e50d77b8040>,\n",
       " <carla.libcarla.Transform at 0x7e50d77b80c0>,\n",
       " <carla.libcarla.Transform at 0x7e50d77b8140>,\n",
       " <carla.libcarla.Transform at 0x7e50d77b81c0>,\n",
       " <carla.libcarla.Transform at 0x7e50d77b8240>,\n",
       " <carla.libcarla.Transform at 0x7e50d77b82c0>,\n",
       " <carla.libcarla.Transform at 0x7e50d77b8340>,\n",
       " <carla.libcarla.Transform at 0x7e50d77b83c0>,\n",
       " <carla.libcarla.Transform at 0x7e50d77b8440>,\n",
       " <carla.libcarla.Transform at 0x7e50d77b84c0>,\n",
       " <carla.libcarla.Transform at 0x7e50d77b8540>,\n",
       " <carla.libcarla.Transform at 0x7e50d77b85c0>,\n",
       " <carla.libcarla.Transform at 0x7e50d77b8640>,\n",
       " <carla.libcarla.Transform at 0x7e50d77b86c0>,\n",
       " <carla.libcarla.Transform at 0x7e50d77b8740>,\n",
       " <carla.libcarla.Transform at 0x7e50d77b87c0>,\n",
       " <carla.libcarla.Transform at 0x7e50d77b8840>,\n",
       " <carla.libcarla.Transform at 0x7e50d77b88c0>,\n",
       " <carla.libcarla.Transform at 0x7e50d77b8940>,\n",
       " <carla.libcarla.Transform at 0x7e50d77b89c0>,\n",
       " <carla.libcarla.Transform at 0x7e50d77b8a40>,\n",
       " <carla.libcarla.Transform at 0x7e50d77b8ac0>,\n",
       " <carla.libcarla.Transform at 0x7e50d77b8b40>,\n",
       " <carla.libcarla.Transform at 0x7e50d77b8bc0>,\n",
       " <carla.libcarla.Transform at 0x7e50d77b8c40>,\n",
       " <carla.libcarla.Transform at 0x7e50d77b8cc0>,\n",
       " <carla.libcarla.Transform at 0x7e50d77b8d40>,\n",
       " <carla.libcarla.Transform at 0x7e50d77b8dc0>,\n",
       " <carla.libcarla.Transform at 0x7e50d77b8e40>,\n",
       " <carla.libcarla.Transform at 0x7e50d77b8ec0>,\n",
       " <carla.libcarla.Transform at 0x7e50d77b8f40>,\n",
       " <carla.libcarla.Transform at 0x7e50d77b9040>,\n",
       " <carla.libcarla.Transform at 0x7e50d77b90c0>,\n",
       " <carla.libcarla.Transform at 0x7e50d77b9140>,\n",
       " <carla.libcarla.Transform at 0x7e50d77b91c0>,\n",
       " <carla.libcarla.Transform at 0x7e50d77b9240>,\n",
       " <carla.libcarla.Transform at 0x7e50d77b92c0>,\n",
       " <carla.libcarla.Transform at 0x7e50d77b9340>,\n",
       " <carla.libcarla.Transform at 0x7e50d77b93c0>,\n",
       " <carla.libcarla.Transform at 0x7e50d77b9440>,\n",
       " <carla.libcarla.Transform at 0x7e50d77b94c0>,\n",
       " <carla.libcarla.Transform at 0x7e50d77b9540>,\n",
       " <carla.libcarla.Transform at 0x7e50d77b95c0>,\n",
       " <carla.libcarla.Transform at 0x7e50d77b9640>,\n",
       " <carla.libcarla.Transform at 0x7e50d77b96c0>,\n",
       " <carla.libcarla.Transform at 0x7e50d77b9740>,\n",
       " <carla.libcarla.Transform at 0x7e50d77b97c0>,\n",
       " <carla.libcarla.Transform at 0x7e50d77b9840>,\n",
       " <carla.libcarla.Transform at 0x7e50d77b98c0>,\n",
       " <carla.libcarla.Transform at 0x7e50d77b9940>,\n",
       " <carla.libcarla.Transform at 0x7e50d77b99c0>,\n",
       " <carla.libcarla.Transform at 0x7e50d77b9a40>,\n",
       " <carla.libcarla.Transform at 0x7e50d77b9ac0>,\n",
       " <carla.libcarla.Transform at 0x7e50d77b9b40>,\n",
       " <carla.libcarla.Transform at 0x7e50d77b9bc0>,\n",
       " <carla.libcarla.Transform at 0x7e50d77b9c40>,\n",
       " <carla.libcarla.Transform at 0x7e50d77b9cc0>,\n",
       " <carla.libcarla.Transform at 0x7e50d77b9d40>,\n",
       " <carla.libcarla.Transform at 0x7e50d77b9dc0>,\n",
       " <carla.libcarla.Transform at 0x7e50d77b9e40>,\n",
       " <carla.libcarla.Transform at 0x7e50d77b9ec0>,\n",
       " <carla.libcarla.Transform at 0x7e50d77b9f40>,\n",
       " <carla.libcarla.Transform at 0x7e50d77ba040>,\n",
       " <carla.libcarla.Transform at 0x7e50d77ba0c0>,\n",
       " <carla.libcarla.Transform at 0x7e50d77ba140>,\n",
       " <carla.libcarla.Transform at 0x7e50d77ba1c0>,\n",
       " <carla.libcarla.Transform at 0x7e50d77ba240>,\n",
       " <carla.libcarla.Transform at 0x7e50d77ba2c0>,\n",
       " <carla.libcarla.Transform at 0x7e50d77ba340>,\n",
       " <carla.libcarla.Transform at 0x7e50d77ba3c0>,\n",
       " <carla.libcarla.Transform at 0x7e50d77ba440>,\n",
       " <carla.libcarla.Transform at 0x7e50d77ba4c0>,\n",
       " <carla.libcarla.Transform at 0x7e50d77ba540>,\n",
       " <carla.libcarla.Transform at 0x7e50d77ba5c0>,\n",
       " <carla.libcarla.Transform at 0x7e50d77ba640>,\n",
       " <carla.libcarla.Transform at 0x7e50d77ba6c0>,\n",
       " <carla.libcarla.Transform at 0x7e50d77ba740>,\n",
       " <carla.libcarla.Transform at 0x7e50d77ba7c0>,\n",
       " <carla.libcarla.Transform at 0x7e50d77ba840>,\n",
       " <carla.libcarla.Transform at 0x7e50d77ba8c0>,\n",
       " <carla.libcarla.Transform at 0x7e50d77ba940>,\n",
       " <carla.libcarla.Transform at 0x7e50d77ba9c0>,\n",
       " <carla.libcarla.Transform at 0x7e50d77baa40>,\n",
       " <carla.libcarla.Transform at 0x7e50d77baac0>,\n",
       " <carla.libcarla.Transform at 0x7e50d77bab40>,\n",
       " <carla.libcarla.Transform at 0x7e50d77babc0>,\n",
       " <carla.libcarla.Transform at 0x7e50d77bac40>,\n",
       " <carla.libcarla.Transform at 0x7e50d77bacc0>,\n",
       " <carla.libcarla.Transform at 0x7e50d77bad40>,\n",
       " <carla.libcarla.Transform at 0x7e50d77badc0>,\n",
       " <carla.libcarla.Transform at 0x7e50d77bae40>,\n",
       " <carla.libcarla.Transform at 0x7e50d77baec0>,\n",
       " <carla.libcarla.Transform at 0x7e50d77baf40>,\n",
       " <carla.libcarla.Transform at 0x7e50d77bb040>,\n",
       " <carla.libcarla.Transform at 0x7e50d77bb0c0>,\n",
       " <carla.libcarla.Transform at 0x7e50d77bb140>,\n",
       " <carla.libcarla.Transform at 0x7e50d77bb1c0>,\n",
       " <carla.libcarla.Transform at 0x7e50d77bb240>,\n",
       " <carla.libcarla.Transform at 0x7e50d77bb2c0>,\n",
       " <carla.libcarla.Transform at 0x7e50d77bb340>,\n",
       " <carla.libcarla.Transform at 0x7e50d77bb3c0>,\n",
       " <carla.libcarla.Transform at 0x7e50d77bb440>,\n",
       " <carla.libcarla.Transform at 0x7e50d77bb4c0>,\n",
       " <carla.libcarla.Transform at 0x7e50d77bb540>,\n",
       " <carla.libcarla.Transform at 0x7e50d77bb5c0>,\n",
       " <carla.libcarla.Transform at 0x7e50d77bb640>,\n",
       " <carla.libcarla.Transform at 0x7e50d77bb6c0>,\n",
       " <carla.libcarla.Transform at 0x7e50d77bb740>,\n",
       " <carla.libcarla.Transform at 0x7e50d77bb7c0>,\n",
       " <carla.libcarla.Transform at 0x7e50d77bb840>,\n",
       " <carla.libcarla.Transform at 0x7e50d77bb8c0>,\n",
       " <carla.libcarla.Transform at 0x7e50d77bb940>,\n",
       " <carla.libcarla.Transform at 0x7e50d77bb9c0>,\n",
       " <carla.libcarla.Transform at 0x7e50d77bba40>,\n",
       " <carla.libcarla.Transform at 0x7e50d77bbac0>,\n",
       " <carla.libcarla.Transform at 0x7e50d77bbb40>,\n",
       " <carla.libcarla.Transform at 0x7e50d77bbbc0>,\n",
       " <carla.libcarla.Transform at 0x7e50d77bbc40>,\n",
       " <carla.libcarla.Transform at 0x7e50d77bbcc0>,\n",
       " <carla.libcarla.Transform at 0x7e50d77bbd40>,\n",
       " <carla.libcarla.Transform at 0x7e50d77bbdc0>,\n",
       " <carla.libcarla.Transform at 0x7e50d77bbe40>,\n",
       " <carla.libcarla.Transform at 0x7e50d77bbec0>,\n",
       " <carla.libcarla.Transform at 0x7e50d77bbf40>,\n",
       " <carla.libcarla.Transform at 0x7e50d77bc040>,\n",
       " <carla.libcarla.Transform at 0x7e50d77bc0c0>,\n",
       " <carla.libcarla.Transform at 0x7e50d77bc140>,\n",
       " <carla.libcarla.Transform at 0x7e50d77bc1c0>,\n",
       " <carla.libcarla.Transform at 0x7e50d77bc240>,\n",
       " <carla.libcarla.Transform at 0x7e50d77bc2c0>,\n",
       " <carla.libcarla.Transform at 0x7e50d77bc340>,\n",
       " <carla.libcarla.Transform at 0x7e50d77bc3c0>,\n",
       " <carla.libcarla.Transform at 0x7e50d77bc440>,\n",
       " <carla.libcarla.Transform at 0x7e50d77bc4c0>,\n",
       " <carla.libcarla.Transform at 0x7e50d77bc540>,\n",
       " <carla.libcarla.Transform at 0x7e50d77bc5c0>,\n",
       " <carla.libcarla.Transform at 0x7e50d77bc640>,\n",
       " <carla.libcarla.Transform at 0x7e50d77bc6c0>,\n",
       " <carla.libcarla.Transform at 0x7e50d77bc740>,\n",
       " <carla.libcarla.Transform at 0x7e50d77bc7c0>,\n",
       " <carla.libcarla.Transform at 0x7e50d77bc840>,\n",
       " <carla.libcarla.Transform at 0x7e50d77bc8c0>,\n",
       " <carla.libcarla.Transform at 0x7e50d77bc940>,\n",
       " <carla.libcarla.Transform at 0x7e50d77bc9c0>,\n",
       " <carla.libcarla.Transform at 0x7e50d77bca40>,\n",
       " <carla.libcarla.Transform at 0x7e50d77bcac0>,\n",
       " <carla.libcarla.Transform at 0x7e50d77bcb40>,\n",
       " <carla.libcarla.Transform at 0x7e50d77bcbc0>,\n",
       " <carla.libcarla.Transform at 0x7e50d77bcc40>,\n",
       " <carla.libcarla.Transform at 0x7e50d77bccc0>,\n",
       " <carla.libcarla.Transform at 0x7e50d77bcd40>,\n",
       " <carla.libcarla.Transform at 0x7e50d77bcdc0>,\n",
       " <carla.libcarla.Transform at 0x7e50d77bce40>,\n",
       " <carla.libcarla.Transform at 0x7e50d77bcec0>,\n",
       " <carla.libcarla.Transform at 0x7e50d77bcf40>,\n",
       " <carla.libcarla.Transform at 0x7e50d77bd040>,\n",
       " <carla.libcarla.Transform at 0x7e50d77bd0c0>,\n",
       " <carla.libcarla.Transform at 0x7e50d77bd140>,\n",
       " <carla.libcarla.Transform at 0x7e50d77bd1c0>,\n",
       " <carla.libcarla.Transform at 0x7e50d77bd240>,\n",
       " <carla.libcarla.Transform at 0x7e50d77bd2c0>,\n",
       " <carla.libcarla.Transform at 0x7e50d77bd340>,\n",
       " <carla.libcarla.Transform at 0x7e50d77bd3c0>,\n",
       " <carla.libcarla.Transform at 0x7e50d77bd440>,\n",
       " <carla.libcarla.Transform at 0x7e50d77bd4c0>,\n",
       " <carla.libcarla.Transform at 0x7e50d77bd540>,\n",
       " <carla.libcarla.Transform at 0x7e50d77bd5c0>]"
      ]
     },
     "execution_count": 6,
     "metadata": {},
     "output_type": "execute_result"
    }
   ],
   "source": [
    "spawn_points"
   ]
  },
  {
   "cell_type": "code",
   "execution_count": 7,
   "id": "d9cf5427",
   "metadata": {},
   "outputs": [],
   "source": [
    "map = world.get_map()\n"
   ]
  },
  {
   "cell_type": "code",
   "execution_count": 8,
   "id": "939dce03",
   "metadata": {},
   "outputs": [
    {
     "data": {
      "text/plain": [
       "<carla.libcarla.Map at 0x7e5106e20c10>"
      ]
     },
     "execution_count": 8,
     "metadata": {},
     "output_type": "execute_result"
    }
   ],
   "source": [
    "map"
   ]
  },
  {
   "cell_type": "code",
   "execution_count": 5,
   "id": "3dd9ecb7-0b97-48b8-a0ec-ec9fa84fbff2",
   "metadata": {},
   "outputs": [],
   "source": [
    "#creating a vechile\n",
    "vehicle_bp = bp_lib.find('vehicle.lincoln.mkz_2020')\n",
    "vehicle = world.try_spawn_actor(vehicle_bp, random.choice(spawn_points))"
   ]
  },
  {
   "cell_type": "code",
   "execution_count": 6,
   "id": "05a28592-a7d5-4c41-86b7-4fb5b6d2cebb",
   "metadata": {},
   "outputs": [],
   "source": [
    "#3shan nela2y el car badl mndwr bel mouse wel wasd: (location above(z=2.5) and behind(x=-4) the car)\n",
    "spectator = world.get_spectator()\n",
    "transform = carla.Transform(vehicle.get_transform().transform(carla.Location(x=-4,z=2.5)), vehicle.get_transform().rotation)\n",
    "spectator.set_transform(transform)"
   ]
  },
  {
   "cell_type": "code",
   "execution_count": 8,
   "id": "0a80dc8e-aaef-4e67-aaef-093270383277",
   "metadata": {},
   "outputs": [],
   "source": [
    "#n3ml 30 vehicles tanyen:\n",
    "for i in range(80):\n",
    "    vehicle_bp = random.choice(bp_lib.filter('vehicle')) #randomly select vehicles from blueprint library\n",
    "    npc = world.try_spawn_actor(vehicle_bp, random.choice(spawn_points))"
   ]
  },
  {
   "cell_type": "code",
   "execution_count": 9,
   "id": "047f3044-6a54-4e16-9c22-2a67430ad99d",
   "metadata": {},
   "outputs": [],
   "source": [
    "#set all vehicles in motion using carla traffic manager:\n",
    "for v in world.get_actors().filter('*vehicle*'):\n",
    "    v.set_autopilot(True)"
   ]
  },
  {
   "cell_type": "code",
   "execution_count": 10,
   "id": "2ed9f0fe",
   "metadata": {},
   "outputs": [],
   "source": [
    "def process_img(image):\n",
    "    i = np.array(image.raw_data)  # convert to an array\n",
    "    i2 = i.reshape((IM_HEIGHT, IM_WIDTH, 4))  # was flattened, so we're going to shape it.\n",
    "    i3 = i2[:, :, :3]  # remove the alpha (basically, remove the 4th index  of every pixel. Converting RGBA to RGB)\n",
    "    cv2.imshow(\"\", i2)  # show it.\n",
    "    cv2.waitKey(1)\n",
    "    return i3/255.0  # normalize"
   ]
  },
  {
   "cell_type": "code",
   "execution_count": 11,
   "id": "309a7c23",
   "metadata": {},
   "outputs": [],
   "source": [
    "IM_WIDTH = 640\n",
    "IM_HEIGHT = 480"
   ]
  },
  {
   "cell_type": "code",
   "execution_count": 13,
   "id": "6c4d5db1",
   "metadata": {},
   "outputs": [
    {
     "name": "stderr",
     "output_type": "stream",
     "text": [
      "WARNING: sensor object went out of the scope but the sensor is still alive in the simulation: Actor 151 (sensor.camera.rgb) \n"
     ]
    }
   ],
   "source": [
    "\n",
    "cam_bp = bp_lib.find(\"sensor.camera.rgb\")\n",
    "# change the dimensions of the image\n",
    "cam_bp.set_attribute('image_size_x', f'{IM_WIDTH}')\n",
    "cam_bp.set_attribute('image_size_y', f'{IM_HEIGHT}')\n",
    "cam_bp.set_attribute('fov', '110')\n",
    "\n",
    "# Adjust sensor relative to vehicle\n",
    "spawn_point = carla.Transform(carla.Location(z=2))\n",
    "\n",
    "# spawn the sensor and attach to vehicle.\n",
    "sensor = world.spawn_actor(cam_bp, spawn_point, attach_to=vehicle)\n",
    "\n",
    "sensor.listen(lambda data: process_img(data))\n"
   ]
  },
  {
   "cell_type": "code",
   "execution_count": 12,
   "id": "e53e6885-5cb2-4e95-bd32-8ad83881e1bb",
   "metadata": {},
   "outputs": [],
   "source": [
    "#record data with rgb camera\n",
    "camera_bp = bp_lib.find('sensor.camera.rgb')\n",
    "camera_init_trans = carla.Transform(carla.Location(z=2)) #mkan el camera(fo2 el vehicle)\n",
    "camera = world.spawn_actor(camera_bp, camera_init_trans, attach_to = vehicle) #spawn el camera attached to awl vehicle ana 3mltha"
   ]
  },
  {
   "cell_type": "code",
   "execution_count": 13,
   "id": "b5f28d55-091d-4790-a4a7-96fe28af57c3",
   "metadata": {},
   "outputs": [],
   "source": [
    "#lambda->start recording\n",
    "camera.listen(lambda image: image.save_to_disk('out/%06d.png' % image.frame))"
   ]
  },
  {
   "cell_type": "code",
   "execution_count": 14,
   "id": "9aea6759-2592-42fd-b493-3b2c96ea0965",
   "metadata": {},
   "outputs": [],
   "source": [
    "camera.stop()"
   ]
  }
 ],
 "metadata": {
  "kernelspec": {
   "display_name": "Tensor",
   "language": "python",
   "name": "tensor"
  },
  "language_info": {
   "codemirror_mode": {
    "name": "ipython",
    "version": 3
   },
   "file_extension": ".py",
   "mimetype": "text/x-python",
   "name": "python",
   "nbconvert_exporter": "python",
   "pygments_lexer": "ipython3",
   "version": "3.9.19"
  }
 },
 "nbformat": 4,
 "nbformat_minor": 5
}
